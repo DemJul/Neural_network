{
 "cells": [
  {
   "cell_type": "raw",
   "metadata": {},
   "source": [
    "# Разработка модели  предполагает:\n",
    "1. **Формирование обучающей выборки**. Размер обучающей выборки, характеристики прецедентов подбирается самостоятельно\n",
    "2. **Обучение модели методом стохастического градиента**. \n",
    "3. Модель предусматривает стандартные функции для работы с моделями --- обучение (fit), применение/прогноз (predict) и оценки качества (score) в части точности.\n",
    "4. Модель предусматривает функцию сериализации (serialization) в файл в формате JSON. "
   ]
  },
  {
   "cell_type": "code",
   "execution_count": 7,
   "metadata": {},
   "outputs": [
    {
     "name": "stdout",
     "output_type": "stream",
     "text": [
      "Requirement already satisfied: termcolor in c:\\users\\happy\\anaconda3\\lib\\site-packages (1.1.0)\n",
      "Collecting random\n"
     ]
    },
    {
     "name": "stderr",
     "output_type": "stream",
     "text": [
      "  Could not find a version that satisfies the requirement random (from versions: )\n",
      "No matching distribution found for random\n"
     ]
    }
   ],
   "source": [
    "# импорт основных классов\n",
    "import numpy as np\n",
    "import json\n",
    "import random\n",
    "import math\n",
    "from pip._internal import main\n",
    "main(['install', 'termcolor','random'])\n",
    "from termcolor import colored, cprint"
   ]
  },
  {
   "cell_type": "code",
   "execution_count": 8,
   "metadata": {
    "colab": {
     "base_uri": "https://localhost:8080/",
     "height": 1000
    },
    "colab_type": "code",
    "id": "0MiENZxwdOmb",
    "outputId": "0e71d906-e882-4062-c5af-df1e201f7df0",
    "scrolled": false
   },
   "outputs": [],
   "source": [
    "#создаем класс, который генерит крестики и нолики\n",
    "class createXO(object):\n",
    "    \n",
    "    def __init__(self):\n",
    "        self.matrix = [[0]*7 for i in range(7)]\n",
    "        pass\n",
    "    \n",
    "    def createX(self):\n",
    "      # задаем начальную точку для рисования крестика\n",
    "        x = random.randint(2,4)\n",
    "        y = random.randint(2,4)\n",
    "        self.matrix[x][y] = 1\n",
    "        # задаем радиус рисования крестика\n",
    "        rad = min(6-x,6-y, x, y)\n",
    "        # заполняем крестик по диагоналям\n",
    "        for i in range(1, rad):\n",
    "            self.matrix[x-i][y-i] = 1\n",
    "            self.matrix[x-i][y+i] = 1\n",
    "            self.matrix[x+i][y-i] = 1\n",
    "            self.matrix[x+i][y+i] = 1\n",
    "        # оставшиеся клетки заполняем случайно 0/1\n",
    "        self.matrix[x+rad][y-rad] = random.randint(0,1)\n",
    "        self.matrix[x-rad][y+rad] = random.randint(0,1)\n",
    "        self.matrix[x+rad][y+rad] = random.randint(0,1)\n",
    "        self.matrix[x-rad][y-rad] = random.randint(0,1)\n",
    "        return self.matrix\n",
    "    \n",
    "    def createO(self):\n",
    "        x = random.randint(2,4)\n",
    "        y = random.randint(2,4)\n",
    "        rad = min(6-x,6-y, x, y)\n",
    "        for i in range(-rad+1, rad):\n",
    "            self.matrix[x+i][y-rad] = 1\n",
    "            self.matrix[x+i][y+rad] = 1\n",
    "            self.matrix[x+rad][y+i] = 1\n",
    "            self.matrix[x-rad][y+i] = 1\n",
    "        self.matrix[x+rad][y-rad] = random.randint(0,1)\n",
    "        self.matrix[x-rad][y+rad] = random.randint(0,1)\n",
    "        self.matrix[x+rad][y+rad] = random.randint(0,1)\n",
    "        self.matrix[x-rad][y-rad] = random.randint(0,1)\n",
    "        return self.matrix\n",
    "    def lenCreate(self):\n",
    "        return len(self.matrix)\n",
    "    \n",
    "    def getIndex(self,i,j):\n",
    "        return self.matrix[i][j]\n"
   ]
  },
  {
   "cell_type": "code",
   "execution_count": 9,
   "metadata": {},
   "outputs": [
    {
     "data": {
      "text/plain": [
       "True"
      ]
     },
     "execution_count": 9,
     "metadata": {},
     "output_type": "execute_result"
    }
   ],
   "source": [
    "# размер данных\n",
    "data_value = 1000\n",
    "\n",
    "# размер элемента данных\n",
    "matrix_len=7\n",
    "\n",
    "# заполняем нулями матрицу для данных\n",
    "data = np.zeros(((data_value+1),(matrix_len*matrix_len+1)))\n",
    "number = 0\n",
    "\n",
    "def saveObject(row, matrix_len):\n",
    "    dist={}\n",
    "    numberRow = 0\n",
    "    for i in range(0, len(row)-1, matrix_len ):\n",
    "            st=[]\n",
    "            for j in range(i,i+matrix_len):\n",
    "                index=row[j]\n",
    "                st.append(index)\n",
    "            dist.update({numberRow:st})\n",
    "            numberRow+=1\n",
    "    dist.update({'answer':'X' if row[len(row)-1] == 1  else '0'})\n",
    "    return dist\n",
    "# СОхранение данных в json-файл\n",
    "def saveInFile(fullMatrix, matrix_len):\n",
    "    dist={}\n",
    "    for i in range(len(fullMatrix)):\n",
    "        index=fullMatrix[i]\n",
    "        obj = saveObject(index, matrix_len)\n",
    "        dist.update({i:obj})\n",
    "    try:\n",
    "        with open(\"data_file.json\", \"w\") as write_file:\n",
    "            json.dump(dist, write_file, indent=4)\n",
    "        return True\n",
    "    except ValueError: \n",
    "        return False\n",
    "    \n",
    "\n",
    "# заполняем матрицу данных элементами 0/1\n",
    "for h in range(data_value):\n",
    "    a = createXO()\n",
    "\n",
    "    # выбираем элемнт случайным образом\n",
    "    choose = random.randint(0,1)\n",
    "\n",
    "    if choose == 0:\n",
    "        m=a.createO()\n",
    "        # в матрицу данных 0/1 кладем по строкам -> одной строкой один элемент\n",
    "        for l in range(matrix_len):\n",
    "            for p in range(matrix_len):\n",
    "                data[h][p + matrix_len*l] = m[l][p]\n",
    "                data[h][matrix_len*matrix_len]=choose\n",
    "\n",
    "    if choose == 1:\n",
    "        m=a.createX()\n",
    "        for l in range(matrix_len):\n",
    "            for p in range(matrix_len):\n",
    "                data[h][p + matrix_len*l] = m[l][p]\n",
    "                data[h][matrix_len*matrix_len]=choose\n",
    "saveInFile(data, matrix_len)"
   ]
  },
  {
   "cell_type": "code",
   "execution_count": 10,
   "metadata": {},
   "outputs": [
    {
     "name": "stdout",
     "output_type": "stream",
     "text": [
      "0 0 0 0 0 0 0 \n",
      "0 0 0 0 \u001b[31m1\u001b[0m 0 0 \n",
      "0 \u001b[31m1\u001b[0m 0 \u001b[31m1\u001b[0m 0 0 0 \n",
      "0 0 \u001b[31m1\u001b[0m 0 0 0 0 \n",
      "0 \u001b[31m1\u001b[0m 0 \u001b[31m1\u001b[0m 0 0 0 \n",
      "0 0 0 0 \u001b[31m1\u001b[0m 0 0 \n",
      "0 0 0 0 0 0 0 \n"
     ]
    }
   ],
   "source": [
    "import random\n",
    "def printXO(data):\n",
    "    for j in range(0, matrix_len):\n",
    "        for x in data[j * matrix_len: (j + 1) * matrix_len]:\n",
    "            print(colored(str(int(x)), 'red'), end=' ') if x == 1 else print(int(x), end=' ')\n",
    "        print()\n",
    "\n",
    "i = random.randint(0, len(data))\n",
    "printXO(data[i])"
   ]
  },
  {
   "cell_type": "code",
   "execution_count": 11,
   "metadata": {},
   "outputs": [],
   "source": [
    "\n",
    "def predict(row, weights):\n",
    "    activation = weights[0]\n",
    "    for i in range(len(row)-1):\n",
    "   # перемножая веса на вход, получаем выход\n",
    "        activation += weights[i + 1] * row[i]\n",
    "    return 1.0 if activation >= 0.0 else 0.0\n",
    "\n",
    "# Функция активации\n",
    "def activation(x):\n",
    "    return round((1 + math.exp(-x))**(-1))\n",
    "\n",
    "\n",
    "# row-данные по крестику/нолику\n",
    "# предсказываем результат определения элемента, на вход элемент и используемые веса\n",
    "def a_x(row, weights):\n",
    "    sum_wx = 0\n",
    "    for i in range(1,len(weights)):\n",
    "        sum_wx += weights[i]*row[i]\n",
    "    return activation(sum_wx - weights[0])    \n",
    "def z_elem(a,y):\n",
    "    return (a - y) ** 2\n",
    "    \n",
    "def sum_z_elem(train, weights):\n",
    "    Q=0\n",
    "    for i in range(len(train)):\n",
    "        y_i=train[i][matrix_len*matrix_len]\n",
    "        a = a_x(train[i], weights)\n",
    "        Q += z_elem(a, y_i)\n",
    "    return Q\n",
    "\n",
    "def calc_phi_der(x):\n",
    "    return math.exp(-x)/((1 + math.exp(-x))**2)\n",
    "    "
   ]
  },
  {
   "cell_type": "code",
   "execution_count": 12,
   "metadata": {},
   "outputs": [
    {
     "name": "stdout",
     "output_type": "stream",
     "text": [
      "L 1001\n",
      "[-0.18971496697700754, -0.18971496697700754, -0.18971496697700754, -0.18971496697700754, -0.18971496697700754, 0.0, 0.0, -0.18971496697700754, 0.0, 0.008345816123193184, -0.23173946256416955, -0.17306258508954214, -0.23173946256416955, 0.0, -0.18971496697700754, 0.24839184445163495, -0.19963445632598353, 0.27058212937718373, -0.15819205803522043, 0.022190284925548753, -0.23173946256416955, -0.18971496697700754, 0.03152290894178711, 0.0166523818874654, 0.4994179027036011, 0.05037031171035519, 0.03210500623818602, -0.23173946256416955, -0.18971496697700754, -0.15921811628718657, -0.172036526837576, 0.2987621561619902, 0.06028503302299246, 0.022190284925548753, -0.23173946256416955, 0.0, 0.03152290894178711, 0.24008527868736274, 0.26767844013943154, 0.0166523818874654, -0.19963445632598353, -0.23173946256416955, 0.0, 0.0, -0.21789499376181398, -0.21789499376181398, 0.03152290894178711, 0.0, 0.0, 0.9878950258425988]\n",
      "Точность 1.0\n"
     ]
    }
   ],
   "source": [
    "\n",
    "# обучение нейрона\n",
    "def train_weights(train, l_rate, n_epoch):\n",
    "    \n",
    "    # иициализируем веса в начале нулями\n",
    "    weights = [0.0 for i in range(len(train[0]))]\n",
    "#     Инициализация функции качества\n",
    "    Q= sum_z_elem(train, weights)\n",
    "    \n",
    "    Q1=0\n",
    "    l=len(train)\n",
    "    print('L', l)\n",
    "    for i in range(data_value):\n",
    "        Q+=predict(train[i], weights)\n",
    "    n_current = 0\n",
    "#     while(abs(Q-Q1) > 1e-10 and n_current < n_epoch):\n",
    "    while( Q!=Q1 and n_current < n_epoch):\n",
    "        Q1=Q\n",
    "        n_current +=1\n",
    "        obj=random.randint(0, len(train)-1)\n",
    "#         Выходное значение а и eps\n",
    "        a = a_x(train[obj], weights)\n",
    "        eps = z_elem(a, train[obj][matrix_len*matrix_len])\n",
    "        \n",
    "        scalar_x_w = 0\n",
    "        \n",
    "        for i in range(len(weights)):\n",
    "            scalar_x_w += train[obj][i]*weights[i]\n",
    "            \n",
    "        m = 2*(a - train[obj][matrix_len*matrix_len])*calc_phi_der(scalar_x_w)\n",
    "        \n",
    "        for j in range(len(weights)):\n",
    "            weights[j] -= l_rate*m*train[obj][j]\n",
    "        Q=  Q*(l-1)/l +eps*eps/l        \n",
    "    return weights\n",
    "\n",
    "ready_weights= train_weights(data, 0.5, 500)\n",
    "print(ready_weights)\n",
    "# Проверка полноты\n",
    "trueAnswer=0\n",
    "lenObj=len(data[0])\n",
    "for i in range(0,1000):\n",
    "    if(a_x(data[i], ready_weights)==data[i][lenObj-1]):\n",
    "        trueAnswer+=1\n",
    "        \n",
    "print('Точность', trueAnswer/1000)\n"
   ]
  },
  {
   "cell_type": "code",
   "execution_count": null,
   "metadata": {},
   "outputs": [],
   "source": []
  },
  {
   "cell_type": "code",
   "execution_count": null,
   "metadata": {},
   "outputs": [],
   "source": []
  }
 ],
 "metadata": {
  "colab": {
   "collapsed_sections": [],
   "name": "stohastic.ipynb",
   "provenance": []
  },
  "kernelspec": {
   "display_name": "Python 3",
   "language": "python",
   "name": "python3"
  },
  "language_info": {
   "codemirror_mode": {
    "name": "ipython",
    "version": 3
   },
   "file_extension": ".py",
   "mimetype": "text/x-python",
   "name": "python",
   "nbconvert_exporter": "python",
   "pygments_lexer": "ipython3",
   "version": "3.7.3"
  }
 },
 "nbformat": 4,
 "nbformat_minor": 1
}
